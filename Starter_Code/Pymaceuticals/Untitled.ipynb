{
 "cells": [
  {
   "cell_type": "code",
   "execution_count": null,
   "id": "c4390b22",
   "metadata": {},
   "outputs": [],
   "source": [
    "# Dependencies and Setup\n",
    "import matplotlib.pyplot as plt\n",
    "import pandas as pd\n",
    "import scipy.stats as st\n",
    "\n",
    "# Study data files\n",
    "mouse_metadata_path = \"data/Mouse_metadata.csv\"\n",
    "study_results_path = \"data/Study_results.csv\"\n",
    "\n",
    "# Read the mouse data and the study results\n",
    "mouse_metadata = pd.read_csv(mouse_metadata_path)\n",
    "study_results = pd.read_csv(study_results_path)\n",
    "\n",
    "# Combine the data into a single DataFrame\n",
    "combined_data=pd.merge(study_results,mouse_metadata, how=\"outer\",on=\"Mouse ID\")\n",
    "\n",
    "# Display the data table for preview\n",
    "combined_data.head()"
   ]
  },
  {
   "cell_type": "code",
   "execution_count": null,
   "id": "ba931fa5",
   "metadata": {},
   "outputs": [],
   "source": [
    "# Checking the number of mice.\n",
    "number_of_mice=combined_data[\"Mouse ID\"].unique()\n",
    "print(len(number_of_mice))\n"
   ]
  },
  {
   "cell_type": "code",
   "execution_count": null,
   "id": "b46cd832",
   "metadata": {},
   "outputs": [],
   "source": []
  },
  {
   "cell_type": "code",
   "execution_count": null,
   "id": "7392c6a0",
   "metadata": {},
   "outputs": [],
   "source": [
    "# Our data should be uniquely identified by Mouse ID and Timepoint\n",
    "# Get the duplicate mice by ID number that shows up for Mouse ID and Timepoint. \n",
    "duplicated_mice = combined_data.loc[combined_data.duplicated(subset=['Mouse ID', 'Timepoint']),'Mouse ID'].unique()\n",
    "duplicated_mice"
   ]
  },
  {
   "cell_type": "code",
   "execution_count": null,
   "id": "d4771f76",
   "metadata": {},
   "outputs": [],
   "source": [
    "# Optional: Get all the data for the duplicate mouse ID. \n",
    "#considering that is the mouse g989, we will get the info of this mouse\n",
    "g989_mouse=combined_data.loc[combined_data[\"Mouse ID\"]==\"g989\"][:]\n",
    "g989_mouse"
   ]
  },
  {
   "cell_type": "code",
   "execution_count": null,
   "id": "f925ff4b",
   "metadata": {},
   "outputs": [],
   "source": [
    "# Create a clean DataFrame by dropping the duplicate mouse by its ID.\n",
    "unique_combined_data=combined_data.drop_duplicates(subset=\"Mouse ID\",keep=\"first\")\n",
    "unique_combined_data\n"
   ]
  },
  {
   "cell_type": "code",
   "execution_count": null,
   "id": "a07b5f23",
   "metadata": {},
   "outputs": [],
   "source": [
    "# Checking the number of mice in the clean DataFrame.\n",
    "number_of_mice2=unique_combined_data[\"Mouse ID\"].unique()\n",
    "print(len(number_of_mice2))\n"
   ]
  },
  {
   "cell_type": "code",
   "execution_count": null,
   "id": "fc24d0b6",
   "metadata": {},
   "outputs": [],
   "source": [
    "# Generate a summary statistics table of mean, median, variance, standard deviation, and SEM of the tumor volume for each regimen\n",
    "# Use groupby and summary statistical methods to calculate the following properties of each drug regimen: \n",
    "grouped_drug=unique_combined_data.groupby([\"Drug Regimen\"])\n",
    "# mean, median, variance, standard deviation, and SEM of the tumor volume. \n",
    "#MEAN\n",
    "mean_tumor_volume = grouped_drug[\"Tumor Volume (mm3)\"].mean()\n",
    "#MEDIAN\n",
    "median_tumor_volume = grouped_drug[\"Tumor Volume (mm3)\"].median()\n",
    "#VARIANCE\n",
    "variance_tumor_volume = grouped_drug[\"Tumor Volume (mm3)\"].var()\n",
    "#variance_tumor_volume=variance_tumor_volume_a[\"Tumor Volume (mm3)\"]\n",
    "#STANDAR DEVIATION\n",
    "std_tumor_volume= grouped_drug[\"Tumor Volume (mm3)\"].std()\n",
    "#SEM\n",
    "sem_tumor_volume= grouped_drug[\"Tumor Volume (mm3)\"].sem()\n",
    "\n",
    "# Assemble the resulting series into a single summary DataFrame.\n",
    "summary_statics=pd.DataFrame({\"Mean Tumor Volume\":mean_tumor_volume,\"Median Tumor Volume\":median_tumor_volume,\"Tumor Volume Variance\":variance_tumor_volume,\"Tumor Volume Variance\":variance_tumor_volume,\"Tumor Volume Std. Dev.\":std_tumor_volume,\"Tumor Volume Std. Err.\":sem_tumor_volume})\n",
    "summary_statics"
   ]
  },
  {
   "cell_type": "code",
   "execution_count": null,
   "id": "4cd9b705",
   "metadata": {},
   "outputs": [],
   "source": [
    "# Generate a bar plot showing the total number of rows (Mouse ID/Timepoints) for each drug regimen using Pandas.\n",
    "info=grouped_drug[\"Mouse ID\"].size()\n",
    "info=info.sort_values(ascending=False)\n",
    "info.plot(kind=\"bar\")\n",
    "plt.tight_layout()\n",
    "\n",
    "plt.xlabel(\"Drug Regimen\")\n",
    "plt.ylabel(\"# of observed Mouse Timepoints\")"
   ]
  },
  {
   "cell_type": "code",
   "execution_count": null,
   "id": "8f79a80c",
   "metadata": {},
   "outputs": [],
   "source": [
    "# Generate a bar plot showing the total number of rows (Mouse ID/Timepoints) for each drug regimen using pyplot.\n",
    "#Seting axis\n",
    "x_axis=grouped_drug[\"Drug Regimen\"].first()\n",
    "y_axis=grouped_drug[\"Mouse ID\"].size()\n",
    "#Sort data highest to lowest\n",
    "y_axis=y_axis.sort_values(ascending=False)\n",
    "#bar chart rotate ticks so they fit the chart\n",
    "bar_chart=plt.bar(x_axis,y_axis)\n",
    "plt.tight_layout()\n",
    "\n",
    "plt.xticks(rotation=45)\n",
    "plt.xlabel(\"Drug Regimen\")\n",
    "plt.ylabel(\"# of observed Mouse Timepoints\")\n",
    "#plt.set_xticklabels(x_axis,rotation=45)"
   ]
  },
  {
   "cell_type": "code",
   "execution_count": null,
   "id": "e4a7ced2",
   "metadata": {},
   "outputs": [],
   "source": [
    "# Generate a pie plot showing the distribution of female versus male mice using Pandas\n",
    "sex2=unique_combined_data.groupby(['Mouse ID'],as_index=False)['Timepoint'].max()\n",
    "sex2\n",
    "sex=unique_combined_data[\"Sex\"].value_counts()\n",
    "\n",
    "df = pd.DataFrame({'Sex': sex},index=['Male', 'Female'])                \n",
    "#plot = df.plot.pie(y='sex')\n",
    "\n",
    "#label0=[\"Male\",\"Female\"]\n",
    "#plt.pie(sex,labels=label0, autopct=\"%1.1f%%\")\n",
    "#plt.title(\"Sex\")\n"
   ]
  },
  {
   "cell_type": "code",
   "execution_count": null,
   "id": "00fd0c1f",
   "metadata": {},
   "outputs": [],
   "source": [
    "# Generate a pie plot showing the distribution of female versus male mice using pyplot\n",
    "sex=unique_combined_data[\"Sex\"].value_counts()\n",
    "#percentage calculation\n",
    "sex_total=len(unique_combined_data[\"Sex\"])\n",
    "percentage=sex/sex_total*100\n",
    "label0=[\"Male\",\"Female\"]\n",
    "plt.pie(percentage,labels=label0, autopct=\"%1.1f%%\")\n",
    "plt.title(\"Sex\")"
   ]
  },
  {
   "cell_type": "code",
   "execution_count": null,
   "id": "9784b891",
   "metadata": {},
   "outputs": [],
   "source": [
    "# Calculate the final tumor volume of each mouse across four of the treatment regimens:  \n",
    "# Capomulin, Ramicane, Infubinol, and Ceftamin\n",
    "# Start by getting the last (greatest) timepoint for each mouse\n",
    "#Gruup by mice and pass the max timepoint\n",
    "timepoint45=unique_combined_data.groupby(['Mouse ID'],as_index=False)['Timepoint'].max()\n",
    "\n",
    "# Merge this group df with the original DataFrame to get the tumor volume at the last timepoint\n",
    "merge_timepoint=pd.merge(unique_combined_data,timepoint45,on=[\"Mouse ID\",\"Timepoint\"],how=\"right\")\n",
    "merge_timepoint.head()"
   ]
  },
  {
   "cell_type": "code",
   "execution_count": null,
   "id": "b53647e0",
   "metadata": {},
   "outputs": [],
   "source": [
    "\n",
    "# Put treatments into a list for for loop (and later for plot labels)\n",
    "treatments=[\"Capomulin\", \"Ramicane\", \"Infubinol\", \"Ceftamin\"]\n",
    "\n",
    "\n",
    "# Create empty list to fill with tumor vol data (for plotting) it is actualy a list of lists[0]-Capomulin etc\n",
    "tumor_vol_data=[]\n",
    "\n",
    "for treatment in treatments:\n",
    "    a1=merge_timepoint.loc[merge_timepoint[\"Drug Regimen\"]==treatment]\n",
    "    tumor_vol_data.append(a1[\"Tumor Volume (mm3)\"])\n",
    "\n",
    "#---------------------------------crating dataframe for easier manage of list of lists-------------------\n",
    "Capomulin=tumor_vol_data[0]\n",
    "Ramicane=tumor_vol_data[1]\n",
    "Infubinol=tumor_vol_data[2]\n",
    "Ceftamin=tumor_vol_data[3]\n",
    "vol_data_df=pd.DataFrame({\"Capomulin\":Capomulin,\"Ramicane\":Ramicane,\"Infubinol\":Infubinol,\"Ceftamin\":Ceftamin})\n",
    "\n",
    "\n",
    "#------------------------------------------------------------\n",
    "# Calculate the IQR and quantitatively determine if there are any potential outliers. \n",
    "\n",
    "for treatment0 in treatments:\n",
    "    quartiles = vol_data_df[treatment0].quantile([.25,.5,.75]) \n",
    "    lowerq = quartiles[0.25]\n",
    "    upperq = quartiles[0.75]\n",
    "    iqr = upperq-lowerq\n",
    "    lower_bound = lowerq - (1.5*iqr)\n",
    "    upper_bound = upperq + (1.5*iqr)\n",
    "    a=vol_data_df.loc[(vol_data_df[treatment0]>upper_bound)|(vol_data_df[treatment0]<lower_bound)]\n",
    "    b=[]\n",
    "    b=a[treatment0]\n",
    "    print(f\"{treatment0} potential outliers {b}\") "
   ]
  },
  {
   "cell_type": "code",
   "execution_count": null,
   "id": "7cbaf724",
   "metadata": {},
   "outputs": [],
   "source": [
    "# Generate a box plot that shows the distrubution of the tumor volume for each treatment group.\n",
    "#pandas box plot\n",
    "vol_data_df.boxplot(column=[\"Capomulin\",\"Ramicane\",\"Infubinol\",\"Ceftamin\"] )\n",
    "\n",
    "fig1,ax1=plt.subplots()\n",
    "ax1.boxplot(tumor_vol_data,labels=treatments)"
   ]
  },
  {
   "cell_type": "code",
   "execution_count": null,
   "id": "954d4a0c",
   "metadata": {},
   "outputs": [],
   "source": [
    "# Generate a line plot of tumor volume vs. time point for a single mouse treated with Capomulin Mouse 1509\n",
    "y_axis=unique_combined_data.loc[unique_combined_data[\"Mouse ID\"]==\"l509\"][\"Tumor Volume (mm3)\"]\n",
    "x_axis=unique_combined_data.loc[unique_combined_data[\"Mouse ID\"]==\"l509\"][\"Timepoint\"]\n",
    "plt.plot(x_axis,y_axis)\n",
    "plt.xlabel(\"Timepoints (Days)\")\n",
    "plt.ylabel(\"Tumor Volume (mm3)\")\n",
    "plt.title(\"Capomulin treatment of mouse l509\")"
   ]
  },
  {
   "cell_type": "code",
   "execution_count": null,
   "id": "4a8c447f",
   "metadata": {},
   "outputs": [],
   "source": [
    "# Generate a scatter plot of mouse weight vs. the average observed tumor volume for the entire Capomulin regimen\n",
    "\n",
    "x_axis=merge_timepoint.loc[merge_timepoint[\"Drug Regimen\"]==\"Capomulin\"][\"Weight (g)\"]\n",
    "y_axis=unique_combined_data.groupby([\"Mouse ID\",\"Drug Regimen\"],as_index=False)[\"Tumor Volume (mm3)\"].mean()\n",
    "y_axis_df=pd.DataFrame(y_axis)\n",
    "y_axis=y_axis.loc[y_axis[\"Drug Regimen\"]==\"Capomulin\"][\"Tumor Volume (mm3)\"]\n",
    "plt.scatter(x_axis,y_axis)\n",
    "plt.xlabel(\"Weight (g)\")\n",
    "plt.ylabel(\"Average Tumor Volume (mm3)\")"
   ]
  },
  {
   "cell_type": "code",
   "execution_count": null,
   "id": "60ac1be0",
   "metadata": {},
   "outputs": [],
   "source": [
    "# Calculate the correlation coefficient and a linear regression model \n",
    "print(f\"The correlation between mouse weight and the average tumor volume is  {round(st.pearsonr(x_axis,y_axis)[0],2)}\")\n",
    "# for mouse weight and average observed tumor volume for the entire Capomulin regimen\n",
    "pe_slope,pe_int,pe_r,pe_p,pe_std_err=st.linregress(x_axis,y_axis)\n",
    "pe_fit=pe_slope*x_axis+pe_int\n",
    "plt.scatter(x_axis,y_axis)\n",
    "plt.plot(x_axis,pe_fit,\"--\",color=\"red\")\n",
    "plt.xlabel(\"Weight (g)\")\n",
    "plt.ylabel(\"Average Tumor Volume (mm3)\")"
   ]
  },
  {
   "cell_type": "code",
   "execution_count": null,
   "id": "692fa88c",
   "metadata": {},
   "outputs": [],
   "source": []
  }
 ],
 "metadata": {
  "kernelspec": {
   "display_name": "Python 3 (ipykernel)",
   "language": "python",
   "name": "python3"
  },
  "language_info": {
   "codemirror_mode": {
    "name": "ipython",
    "version": 3
   },
   "file_extension": ".py",
   "mimetype": "text/x-python",
   "name": "python",
   "nbconvert_exporter": "python",
   "pygments_lexer": "ipython3",
   "version": "3.10.9"
  }
 },
 "nbformat": 4,
 "nbformat_minor": 5
}
